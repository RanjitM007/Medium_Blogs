{
 "cells": [
  {
   "cell_type": "markdown",
   "id": "ba8611bc",
   "metadata": {},
   "source": [
    "# accuracy"
   ]
  },
  {
   "cell_type": "markdown",
   "id": "67311842",
   "metadata": {},
   "source": [
    "accuracy = total correct predictions / total predictions made * 100"
   ]
  },
  {
   "cell_type": "markdown",
   "id": "d3744c28",
   "metadata": {},
   "source": [
    "interval = z * sqrt( (error * (1 - error)) / n)"
   ]
  },
  {
   "cell_type": "markdown",
   "id": "b1c22866",
   "metadata": {},
   "source": [
    "\n",
    "interval = z * sqrt( (accuracy * (1 - accuracy)) / n)"
   ]
  },
  {
   "cell_type": "code",
   "execution_count": 1,
   "id": "42a5885a",
   "metadata": {},
   "outputs": [
    {
     "name": "stdout",
     "output_type": "stream",
     "text": [
      "0.111\n"
     ]
    }
   ],
   "source": [
    "# binomial confidence interval\n",
    "from math import sqrt\n",
    "interval = 1.96 * sqrt( (0.2 * (1 - 0.2)) / 50)\n",
    "print('%.3f' % interval)"
   ]
  },
  {
   "cell_type": "code",
   "execution_count": 2,
   "id": "e8311827",
   "metadata": {},
   "outputs": [
    {
     "name": "stdout",
     "output_type": "stream",
     "text": [
      "0.078\n"
     ]
    }
   ],
   "source": [
    "# binomial confidence interval\n",
    "interval = 1.96 * sqrt( (0.2 * (1 - 0.2)) / 100)\n",
    "print('%.3f' % interval)"
   ]
  },
  {
   "cell_type": "code",
   "execution_count": 3,
   "id": "54d41a5b",
   "metadata": {},
   "outputs": [
    {
     "name": "stdout",
     "output_type": "stream",
     "text": [
      "lower=0.816, upper=0.944\n"
     ]
    }
   ],
   "source": [
    "\n",
    "from statsmodels.stats.proportion import proportion_confint\n",
    "lower, upper = proportion_confint(88, 100, 0.05)\n",
    "print('lower=%.3f, upper=%.3f' % (lower, upper))\n",
    "\n"
   ]
  },
  {
   "cell_type": "code",
   "execution_count": null,
   "id": "33a8a974",
   "metadata": {},
   "outputs": [],
   "source": []
  },
  {
   "cell_type": "code",
   "execution_count": 4,
   "id": "27ae3479",
   "metadata": {},
   "outputs": [],
   "source": [
    "# bootstrap confidence intervals\n",
    "from numpy.random import seed\n",
    "from numpy.random import rand\n",
    "from numpy.random import randint\n",
    "from numpy import mean\n",
    "from numpy import median"
   ]
  },
  {
   "cell_type": "code",
   "execution_count": 5,
   "id": "b7c29a24",
   "metadata": {},
   "outputs": [],
   "source": [
    "# generate dataset\n",
    "dataset = 0.5 + rand(1000) * 0.5"
   ]
  },
  {
   "cell_type": "code",
   "execution_count": 6,
   "id": "2ba3e220",
   "metadata": {},
   "outputs": [],
   "source": [
    "\n",
    "# bootstrap\n",
    "scores = list()\n",
    "for _ in range(100):\n",
    "    # bootstrap sample\n",
    "    indices = randint(0, 1000, 1000)\n",
    "    sample = dataset[indices]\n",
    "    # calculate and store statistic\n",
    "    statistic = mean(sample)\n",
    "    scores.append(statistic)\n"
   ]
  },
  {
   "cell_type": "code",
   "execution_count": 7,
   "id": "ca9095e2",
   "metadata": {},
   "outputs": [
    {
     "name": "stdout",
     "output_type": "stream",
     "text": [
      "median=0.747\n"
     ]
    }
   ],
   "source": [
    "\n",
    "print('median=%.3f' % median(scores))"
   ]
  },
  {
   "cell_type": "code",
   "execution_count": 8,
   "id": "dfa984d6",
   "metadata": {},
   "outputs": [],
   "source": [
    "# calculate 95% confidence intervals (100 - alpha)\n",
    "alpha = 5.0"
   ]
  },
  {
   "cell_type": "code",
   "execution_count": 9,
   "id": "2a6356c4",
   "metadata": {},
   "outputs": [],
   "source": [
    "from numpy import percentile"
   ]
  },
  {
   "cell_type": "code",
   "execution_count": 10,
   "id": "955e4879",
   "metadata": {},
   "outputs": [],
   "source": [
    "# calculate lower percentile (e.g. 2.5)\n",
    "lower_p = alpha / 2.0\n",
    "# retrieve observation at lower percentile\n",
    "lower = max(0.0, percentile(scores, lower_p))"
   ]
  },
  {
   "cell_type": "code",
   "execution_count": 11,
   "id": "c5284f3f",
   "metadata": {},
   "outputs": [],
   "source": [
    "# calculate upper percentile (e.g. 97.5)\n",
    "upper_p = (100 - alpha) + (alpha / 2.0)\n",
    "# retrieve observation at upper percentile\n",
    "upper = min(1.0, percentile(scores, upper_p))"
   ]
  },
  {
   "cell_type": "code",
   "execution_count": 12,
   "id": "5d172a14",
   "metadata": {},
   "outputs": [
    {
     "data": {
      "text/plain": [
       "0.7355307923576244"
      ]
     },
     "execution_count": 12,
     "metadata": {},
     "output_type": "execute_result"
    }
   ],
   "source": [
    "lower"
   ]
  },
  {
   "cell_type": "code",
   "execution_count": 13,
   "id": "ad26098f",
   "metadata": {},
   "outputs": [
    {
     "data": {
      "text/plain": [
       "0.7558223716277149"
      ]
     },
     "execution_count": 13,
     "metadata": {},
     "output_type": "execute_result"
    }
   ],
   "source": [
    "upper"
   ]
  },
  {
   "cell_type": "markdown",
   "id": "1734f92d",
   "metadata": {},
   "source": [
    "# bootstrap confidence intervals"
   ]
  },
  {
   "cell_type": "code",
   "execution_count": 14,
   "id": "1b8f1442",
   "metadata": {},
   "outputs": [
    {
     "name": "stdout",
     "output_type": "stream",
     "text": [
      "50th percentile (median) = 0.750\n",
      "2.5th percentile = 0.741\n",
      "97.5th percentile = 0.757\n"
     ]
    }
   ],
   "source": [
    "# bootstrap confidence intervals\n",
    "from numpy.random import seed\n",
    "from numpy.random import rand\n",
    "from numpy.random import randint\n",
    "from numpy import mean\n",
    "from numpy import median\n",
    "from numpy import percentile\n",
    "# seed the random number generator\n",
    "seed(1)\n",
    "# generate dataset\n",
    "dataset = 0.5 + rand(1000) * 0.5\n",
    "# bootstrap\n",
    "scores = list()\n",
    "for _ in range(100):\n",
    "    # bootstrap sample\n",
    "    indices = randint(0, 1000, 1000)\n",
    "    sample = dataset[indices]\n",
    "    # calculate and store statistic\n",
    "    statistic = mean(sample)\n",
    "    scores.append(statistic)\n",
    "print('50th percentile (median) = %.3f' % median(scores))\n",
    "# calculate 95% confidence intervals (100 - alpha)\n",
    "alpha = 5.0\n",
    "# calculate lower percentile (e.g. 2.5)\n",
    "lower_p = alpha / 2.0\n",
    "# retrieve observation at lower percentile\n",
    "lower = max(0.0, percentile(scores, lower_p))\n",
    "print('%.1fth percentile = %.3f' % (lower_p, lower))\n",
    "# calculate upper percentile (e.g. 97.5)\n",
    "upper_p = (100 - alpha) + (alpha / 2.0)\n",
    "# retrieve observation at upper percentile\n",
    "upper = min(1.0, percentile(scores, upper_p))\n",
    "print('%.1fth percentile = %.3f' % (upper_p, upper))"
   ]
  },
  {
   "cell_type": "code",
   "execution_count": null,
   "id": "91b4fd8a",
   "metadata": {},
   "outputs": [],
   "source": []
  }
 ],
 "metadata": {
  "kernelspec": {
   "display_name": "Python 3",
   "language": "python",
   "name": "python3"
  },
  "language_info": {
   "codemirror_mode": {
    "name": "ipython",
    "version": 3
   },
   "file_extension": ".py",
   "mimetype": "text/x-python",
   "name": "python",
   "nbconvert_exporter": "python",
   "pygments_lexer": "ipython3",
   "version": "3.8.10"
  }
 },
 "nbformat": 4,
 "nbformat_minor": 5
}
